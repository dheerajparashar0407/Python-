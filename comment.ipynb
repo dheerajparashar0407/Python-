{
 "cells": [
  {
   "cell_type": "code",
   "execution_count": null,
   "metadata": {},
   "outputs": [],
   "source": [
    "#The statement which starts from a special character # and that statement is not readable by the interpreter.The interpreter just ignore this statement.It is just for the elaboiration of code which we have done.\n",
    "\n",
    "# hey this is dheeraj\n",
    "# i am learning python.\n",
    "# i got admission into the data analyst course \n",
    "\n",
    "\n",
    "#to do comment multiple lines firstly place the cursor in the front of the first line.press shift nad down button.then press ctlr and forwrd /\n",
    "\n",
    "# today is sunday.\n",
    "# i am doing practice of my python codes.\n",
    "# i am learning  new things in python"
   ]
  }
 ],
 "metadata": {
  "language_info": {
   "name": "python"
  },
  "orig_nbformat": 4
 },
 "nbformat": 4,
 "nbformat_minor": 2
}
