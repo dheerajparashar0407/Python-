{
 "cells": [
  {
   "cell_type": "code",
   "execution_count": 1,
   "metadata": {},
   "outputs": [
    {
     "name": "stdout",
     "output_type": "stream",
     "text": [
      "apple bananan mango\n"
     ]
    }
   ],
   "source": [
    "#Print() is a default function in python.It helps to echo the certain staeement.\n",
    "\n",
    "print(\"apple\",\"bananan\",\"mango\")"
   ]
  },
  {
   "cell_type": "code",
   "execution_count": 3,
   "metadata": {},
   "outputs": [
    {
     "name": "stdout",
     "output_type": "stream",
     "text": [
      "apple bananna mango\n"
     ]
    }
   ],
   "source": [
    "print('apple',\"bananna\",\"\"\"mango\"\"\") #we can use any code whatever we want to use."
   ]
  },
  {
   "cell_type": "code",
   "execution_count": 4,
   "metadata": {},
   "outputs": [
    {
     "name": "stdout",
     "output_type": "stream",
     "text": [
      "apple   bananan   mango\n"
     ]
    }
   ],
   "source": [
    "# Here comma (,) is converter into the space.\n",
    "\n",
    "#The print() function has two things default in it:\n",
    "# 1. SEP Operator\n",
    "# 2. END Operator.\n",
    "\n",
    "print(\"apple\",\"bananan\",\"mango\",sep=\"   \")# mango ke baad  , lagakar sep type krne par sep operator show hone lagta hai.\n",
    "# sep=\"\" is code ke beech hum jo kuch bhi type karnge vo comma (,) ki jagah le lega.\n",
    "\n",
    "\n",
    "\n"
   ]
  },
  {
   "cell_type": "code",
   "execution_count": 6,
   "metadata": {},
   "outputs": [
    {
     "name": "stdout",
     "output_type": "stream",
     "text": [
      "apple@bananan@mango\n"
     ]
    }
   ],
   "source": [
    "# we take a little more space after the sep thats why the space is showing between the strings.\n",
    "\n",
    "print(\"apple\",\"bananan\",\"mango\",sep='@')"
   ]
  },
  {
   "cell_type": "code",
   "execution_count": 7,
   "metadata": {},
   "outputs": [
    {
     "name": "stdout",
     "output_type": "stream",
     "text": [
      "apple&bananan&mango\n"
     ]
    }
   ],
   "source": [
    "print(\"apple\",\"bananan\",\"mango\",sep=\"&\")"
   ]
  },
  {
   "cell_type": "code",
   "execution_count": 8,
   "metadata": {},
   "outputs": [
    {
     "name": "stdout",
     "output_type": "stream",
     "text": [
      "apple bananan mango\n",
      "apple bananan mango\n",
      "apple bananan mango\n",
      "apple bananan mango\n"
     ]
    }
   ],
   "source": [
    "# nwo we talk about the end operator.it is used to write the multiple line code in a single line then we use the semicolon:\n",
    "#which is a symbol of termination.\n",
    "\n",
    "print(\"apple\",\"bananan\",\"mango\");print(\"apple\",\"bananan\",\"mango\");print(\"apple\",\"bananan\",\"mango\");print(\"apple\",\"bananan\",\"mango\")"
   ]
  },
  {
   "cell_type": "code",
   "execution_count": 9,
   "metadata": {},
   "outputs": [
    {
     "name": "stdout",
     "output_type": "stream",
     "text": [
      "apple bananan mango  apple bananan mango  "
     ]
    }
   ],
   "source": [
    "#ok to humne semicolon ka use karke eksingle line me multiple line code kar liya but the result comes in different lines.\n",
    "\n",
    "# Now we want this result in a single line then what we do just watch it once...\n",
    "\n",
    "print(\"apple\",\"bananan\",\"mango\",end=\"  \");print(\"apple\",\"bananan\",\"mango\",end=\"  \")"
   ]
  },
  {
   "cell_type": "code",
   "execution_count": 10,
   "metadata": {},
   "outputs": [
    {
     "name": "stdout",
     "output_type": "stream",
     "text": [
      "apple bananan mango@apple bananan mango&apple bananan mango\n"
     ]
    }
   ],
   "source": [
    "# here the result comes in a single line. for this we use the and operator..\n",
    "\n",
    "print(\"apple\",\"bananan\",\"mango\",end=\"@\");print(\"apple\",\"bananan\",\"mango\",end=\"&\");print(\"apple\",\"bananan\",\"mango\")"
   ]
  },
  {
   "cell_type": "code",
   "execution_count": null,
   "metadata": {},
   "outputs": [],
   "source": [
    "#whatever we use in the end operator this is used by the interpreter to end the first line code...\n"
   ]
  }
 ],
 "metadata": {
  "kernelspec": {
   "display_name": "Python 3",
   "language": "python",
   "name": "python3"
  },
  "language_info": {
   "codemirror_mode": {
    "name": "ipython",
    "version": 3
   },
   "file_extension": ".py",
   "mimetype": "text/x-python",
   "name": "python",
   "nbconvert_exporter": "python",
   "pygments_lexer": "ipython3",
   "version": "3.11.3"
  },
  "orig_nbformat": 4
 },
 "nbformat": 4,
 "nbformat_minor": 2
}
