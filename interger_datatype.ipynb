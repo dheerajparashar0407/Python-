{
 "cells": [
  {
   "cell_type": "code",
   "execution_count": 1,
   "metadata": {},
   "outputs": [
    {
     "name": "stdout",
     "output_type": "stream",
     "text": [
      "<class 'int'>\n"
     ]
    }
   ],
   "source": [
    "#0 to 9 (0,1,2,3,4,5,6,7,8,9) these all the intergers in python..here the Base value=10\n",
    "#Base value= total no. of elements \n",
    "#integer constructor int() this is int paranthesis used to make a empty integer datatype.\n",
    "#integer literal= 0\n",
    "   #EXAMPLE\n",
    "\n",
    "a=10 # ye ek variable hai a jisko assign hai 10 iska datatype pta karna hai...\n",
    "print(type(a))"
   ]
  },
  {
   "cell_type": "code",
   "execution_count": 2,
   "metadata": {},
   "outputs": [
    {
     "name": "stdout",
     "output_type": "stream",
     "text": [
      "<class 'int'>\n"
     ]
    }
   ],
   "source": [
    "b=17\n",
    "print(type(b)) # to know the datatype we use this code..."
   ]
  },
  {
   "cell_type": "code",
   "execution_count": 3,
   "metadata": {},
   "outputs": [
    {
     "name": "stdout",
     "output_type": "stream",
     "text": [
      "0\n"
     ]
    }
   ],
   "source": [
    "#now we want to make a empty integer datatype....\n",
    "\n",
    "b=int()\n",
    "print(b)\n"
   ]
  },
  {
   "cell_type": "code",
   "execution_count": 4,
   "metadata": {},
   "outputs": [
    {
     "name": "stdout",
     "output_type": "stream",
     "text": [
      "0\n"
     ]
    }
   ],
   "source": [
    "#we can see that the value of b is 0 it means it is a empty integer datatype...But it is made by the help of contructor...\n",
    "#we can make empty interger datatype by lateral too.... it means we can make the empty integer by two methods....\n",
    "\n",
    "c=0\n",
    "print(c)"
   ]
  },
  {
   "cell_type": "code",
   "execution_count": 5,
   "metadata": {},
   "outputs": [
    {
     "name": "stdout",
     "output_type": "stream",
     "text": [
      "<class 'int'>\n"
     ]
    }
   ],
   "source": [
    "print(type(c))"
   ]
  },
  {
   "cell_type": "code",
   "execution_count": 6,
   "metadata": {},
   "outputs": [
    {
     "name": "stdout",
     "output_type": "stream",
     "text": [
      "<class 'int'>\n"
     ]
    }
   ],
   "source": [
    "print(type(b))"
   ]
  },
  {
   "cell_type": "code",
   "execution_count": 7,
   "metadata": {},
   "outputs": [
    {
     "data": {
      "text/plain": [
       "'0b1001000010001001111101000'"
      ]
     },
     "execution_count": 7,
     "metadata": {},
     "output_type": "execute_result"
    }
   ],
   "source": [
    "#ok then,we can make empty interger by two types by constructor or by the literal ....\n",
    "\n",
    "\n",
    "#IMP things:a=01,b=003,k=0065 (these all are incorrect in python we should not use 0as a first integer value ok)\n",
    "\n",
    "# NOw we will discuss how we can convert the decimal no.system to binary no.system....\n",
    "\n",
    "\n",
    "#there are four types of number system:\n",
    "# 1.decimal number system.\n",
    "# 2.Binary number system.\n",
    "# 3.octal number system.\n",
    "# 4.hexaoctal number system.\n",
    "\n",
    "a=18945000\n",
    "bin(a)"
   ]
  },
  {
   "cell_type": "code",
   "execution_count": 8,
   "metadata": {},
   "outputs": [
    {
     "data": {
      "text/plain": [
       "'0o110211750'"
      ]
     },
     "execution_count": 8,
     "metadata": {},
     "output_type": "execute_result"
    }
   ],
   "source": [
    "#this way we can find out the binary no. of the variable a...\n",
    "\n",
    "oct(a)"
   ]
  },
  {
   "cell_type": "code",
   "execution_count": 9,
   "metadata": {},
   "outputs": [
    {
     "data": {
      "text/plain": [
       "'0x12113e8'"
      ]
     },
     "execution_count": 9,
     "metadata": {},
     "output_type": "execute_result"
    }
   ],
   "source": [
    "#this way we can convert variable a into the octal no. system..\n",
    "\n",
    "hex(a)"
   ]
  },
  {
   "cell_type": "code",
   "execution_count": 10,
   "metadata": {},
   "outputs": [
    {
     "name": "stdout",
     "output_type": "stream",
     "text": [
      "<class 'int'>\n"
     ]
    }
   ],
   "source": [
    "#we use bin(),   oct(),  hex(),  to convert the decimal no.system into these binary,octal,hexa decimal system...\n",
    "#Base number of binary is 2 (0,1)and notation is 0b\n",
    "#base number of Octal is 08(0,1,2,3,4,5,6,7) and notation is 0o\n",
    "#base number of hexa is 16(0,1,2,3,4,5,6,7,8,9,a,b,c,d,e,f) and the notation is 0x\n",
    "\n",
    "\n",
    "DHEERAJ=1200000000\n",
    "print(type(DHEERAJ))"
   ]
  },
  {
   "cell_type": "code",
   "execution_count": 11,
   "metadata": {},
   "outputs": [
    {
     "data": {
      "text/plain": [
       "'0o10741506000'"
      ]
     },
     "execution_count": 11,
     "metadata": {},
     "output_type": "execute_result"
    }
   ],
   "source": [
    "oct(DHEERAJ)"
   ]
  },
  {
   "cell_type": "code",
   "execution_count": 12,
   "metadata": {},
   "outputs": [
    {
     "data": {
      "text/plain": [
       "'0b1000111100001101000110000000000'"
      ]
     },
     "execution_count": 12,
     "metadata": {},
     "output_type": "execute_result"
    }
   ],
   "source": [
    "bin(DHEERAJ)"
   ]
  },
  {
   "cell_type": "code",
   "execution_count": 13,
   "metadata": {},
   "outputs": [
    {
     "data": {
      "text/plain": [
       "'0x47868c00'"
      ]
     },
     "execution_count": 13,
     "metadata": {},
     "output_type": "execute_result"
    }
   ],
   "source": [
    "hex(DHEERAJ)"
   ]
  },
  {
   "cell_type": "code",
   "execution_count": null,
   "metadata": {},
   "outputs": [],
   "source": []
  }
 ],
 "metadata": {
  "kernelspec": {
   "display_name": "Python 3",
   "language": "python",
   "name": "python3"
  },
  "language_info": {
   "codemirror_mode": {
    "name": "ipython",
    "version": 3
   },
   "file_extension": ".py",
   "mimetype": "text/x-python",
   "name": "python",
   "nbconvert_exporter": "python",
   "pygments_lexer": "ipython3",
   "version": "3.11.3"
  },
  "orig_nbformat": 4
 },
 "nbformat": 4,
 "nbformat_minor": 2
}
