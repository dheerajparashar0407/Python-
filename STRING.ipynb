{
 "cells": [
  {
   "cell_type": "code",
   "execution_count": 2,
   "metadata": {},
   "outputs": [
    {
     "name": "stdout",
     "output_type": "stream",
     "text": [
      "dheeraj\n",
      "dheeraj\n",
      "dheeraj\n",
      "dheeraj\n",
      "26\n",
      "26\n",
      "2.5\n"
     ]
    },
    {
     "data": {
      "text/plain": [
       "<function print(*args, sep=' ', end='\\n', file=None, flush=False)>"
      ]
     },
     "execution_count": 2,
     "metadata": {},
     "output_type": "execute_result"
    }
   ],
   "source": [
    "# we can write the string in python in four types:\n",
    "\n",
    "print('dheeraj')\n",
    "\n",
    "print(\"dheeraj\")\n",
    "print(\"\"\"dheeraj\"\"\")\n",
    "print('''dheeraj''')\n",
    "print('26')\n",
    "print(\"26\")\n",
    "print(\"\"\"2.5\"\"\")\n",
    "\n",
    "print"
   ]
  },
  {
   "cell_type": "code",
   "execution_count": 3,
   "metadata": {},
   "outputs": [
    {
     "name": "stdout",
     "output_type": "stream",
     "text": [
      " Jack and Jill went up the hill,\n",
      "                      jack fall down and jill on the hill\n"
     ]
    }
   ],
   "source": [
    "#SO,these all are the types to write the strings wheteher it is a interger value,float value or any character...\n",
    "#the triple single code(''' ''') or the triple double code(\"\"\" \"\"\") are basically used for the multiple lines such as the poem,poetry etc.\n",
    "\n",
    "print(\"\"\" Jack and Jill went up the hill,\n",
    "                      jack fall down and jill on the hill\"\"\")"
   ]
  },
  {
   "cell_type": "code",
   "execution_count": null,
   "metadata": {},
   "outputs": [],
   "source": [
    "#so in this way we use the triple code..\n",
    "\n"
   ]
  }
 ],
 "metadata": {
  "kernelspec": {
   "display_name": "Python 3",
   "language": "python",
   "name": "python3"
  },
  "language_info": {
   "codemirror_mode": {
    "name": "ipython",
    "version": 3
   },
   "file_extension": ".py",
   "mimetype": "text/x-python",
   "name": "python",
   "nbconvert_exporter": "python",
   "pygments_lexer": "ipython3",
   "version": "3.11.3"
  },
  "orig_nbformat": 4
 },
 "nbformat": 4,
 "nbformat_minor": 2
}
